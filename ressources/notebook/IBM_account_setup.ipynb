{
 "cells": [
  {
   "cell_type": "markdown",
   "metadata": {},
   "source": [
    "# **QISKIT SETUP GUIDE**\n",
    "\n",
    "**This jupyter notebook will help you setup your qiskit environnement for the first time**\n"
   ]
  },
  {
   "cell_type": "markdown",
   "metadata": {},
   "source": [
    "## **0. For every new jupyter notebook using Qiskit**, select the correct interpreter\n",
    "\n",
    " - Click on \"Select Kernel\"\n",
    "\n",
    " - Click on \"Python Environnements...\"\n",
    "\n",
    " - Click on \"qiskit_1_3_2\"\n",
    "\n",
    "### **For any others file type, please check on our github (usage section).**"
   ]
  },
  {
   "cell_type": "markdown",
   "metadata": {},
   "source": [
    "## **1. Setup your token**\n",
    "\n",
    "- Connect to https://quantum.ibm.com/ and copy the API Token.\n",
    "- In the cell code below, **replace \"PASTE_YOUR_TOKEN_HERE\"**  by your token. \n",
    "- Keep the \"\", your token should looks like \"a2aeae5ad48986d4adadcd5f48z4f8zf4q8fds6fsddaudazd54dd7dz49ad69ad\"\n",
    "\n",
    "- **Never share your token**"
   ]
  },
  {
   "cell_type": "markdown",
   "metadata": {},
   "source": [
    "## **2. Run the box below** \n",
    "\n",
    "- Click on the box.\n",
    "\n",
    "- Press (CTRL + ENTER) or run button"
   ]
  },
  {
   "cell_type": "code",
   "execution_count": null,
   "metadata": {},
   "outputs": [],
   "source": [
    "from qiskit_ibm_runtime import QiskitRuntimeService\n",
    " \n",
    "# Save an IBM Quantum account to local disk and set it as your default account.\n",
    "QiskitRuntimeService.save_account(\n",
    "    channel=\"ibm_quantum\",\n",
    "    token=\"PASTE_YOUR_TOKEN_HERE\", #REPLACE HERE\n",
    "    set_as_default=True,\n",
    "    # Use `overwrite=True` if you're updating your token.\n",
    "    overwrite=True,\n",
    ")"
   ]
  },
  {
   "cell_type": "markdown",
   "metadata": {},
   "source": [
    "## **3- Run the box below to test your Qiskit configuration**\n",
    "\n",
    "- Click on the box.\n",
    "\n",
    "- Press (CTRL + ENTER) or run button\n",
    "\n",
    "- *It should take at least 30 seconds*"
   ]
  },
  {
   "cell_type": "code",
   "execution_count": 2,
   "metadata": {},
   "outputs": [
    {
     "name": "stdout",
     "output_type": "stream",
     "text": [
      "job id: cz0375wm4fz0008685mg\n",
      "PrimitiveResult([SamplerPubResult(data=DataBin(meas=BitArray(<shape=(), num_shots=4096, num_bits=2>)), metadata={'circuit_metadata': {}})], metadata={'execution': {'execution_spans': ExecutionSpans([SliceSpan(<start='2025-02-27 09:42:50', stop='2025-02-27 09:43:02', size=4096>)])}, 'version': 2})\n"
     ]
    }
   ],
   "source": [
    "# Testing setup:\n",
    "from qiskit import QuantumCircuit\n",
    "from qiskit_ibm_runtime import QiskitRuntimeService, SamplerV2 as Sampler\n",
    " \n",
    "# Create empty circuit\n",
    "example_circuit = QuantumCircuit(2)\n",
    "example_circuit.measure_all()\n",
    " \n",
    "# You'll need to specify the credentials when initializing QiskitRuntimeService, if they were not previously saved.\n",
    "service = QiskitRuntimeService()\n",
    "backend = service.least_busy(operational=True, simulator=False)\n",
    " \n",
    "sampler = Sampler(backend)\n",
    "job = sampler.run([example_circuit])\n",
    "print(f\"job id: {job.job_id()}\")\n",
    "result = job.result()\n",
    "print(result)"
   ]
  },
  {
   "cell_type": "markdown",
   "metadata": {},
   "source": [
    "## **4- Save this file to your working folder to change your token at any time**"
   ]
  },
  {
   "cell_type": "markdown",
   "metadata": {},
   "source": [
    "## **5- If you encounter any problems, please check the github support section**\n"
   ]
  }
 ],
 "metadata": {
  "kernelspec": {
   "display_name": "qiskit_1_3_2",
   "language": "python",
   "name": "python3"
  },
  "language_info": {
   "codemirror_mode": {
    "name": "ipython",
    "version": 3
   },
   "file_extension": ".py",
   "mimetype": "text/x-python",
   "name": "python",
   "nbconvert_exporter": "python",
   "pygments_lexer": "ipython3",
   "version": "3.12.9"
  }
 },
 "nbformat": 4,
 "nbformat_minor": 2
}
